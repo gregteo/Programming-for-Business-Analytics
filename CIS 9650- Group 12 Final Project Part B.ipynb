{
 "cells": [
  {
   "cell_type": "markdown",
   "metadata": {},
   "source": [
    "#### Group 12\n",
    "Colin Brence <br> \n",
    "Greg Martin Teo <br> \n",
    "Marcus Crewe <hr> "
   ]
  },
  {
   "cell_type": "markdown",
   "metadata": {},
   "source": [
    "### Part B: Data Analysis Module:"
   ]
  },
  {
   "cell_type": "code",
   "execution_count": 1,
   "metadata": {},
   "outputs": [],
   "source": [
    "import pandas as pd\n",
    "import numpy as np\n",
    "import matplotlib.pyplot as plt\n",
    "from pandas import Series,DataFrame\n",
    "import seaborn\n",
    "%matplotlib inline\n",
    "from matplotlib.ticker import ScalarFormatter, FormatStrFormatter"
   ]
  },
  {
   "cell_type": "code",
   "execution_count": 2,
   "metadata": {},
   "outputs": [
    {
     "name": "stdout",
     "output_type": "stream",
     "text": [
      "There are 25988 variables and 30 columns within this data set.\n"
     ]
    }
   ],
   "source": [
    "data = pd.read_csv(r'Capital_Project_Detail_Data_-_Dollars.csv', low_memory = False, thousands=',') ##make sure the csv file is on the same folder as the Final project JNB.\n",
    "\n",
    "print('There are', len(data), 'variables and', len(data.columns), 'columns within this data set.')"
   ]
  },
  {
   "cell_type": "code",
   "execution_count": 3,
   "metadata": {},
   "outputs": [
    {
     "name": "stdout",
     "output_type": "stream",
     "text": [
      "Index(['PUB_DATE', 'BORO', 'MANAGING_AGCY_CD', 'MANAGING_AGCY', 'PROJECT_ID',\n",
      "       'PROJECT_DESCR', 'TYP_CATEGORY_NAME', 'COMMUNITY_BOARD', 'BUDGET_LINE',\n",
      "       'DELAY_DESC', 'SITE_DESCR', 'SCOPE_TEXT', 'FY_YR1_PLAN', 'ORIG_BUD_AMT',\n",
      "       'CITY_PRIOR_ACTUAL', 'CITY_YR1_PLAN', 'CITY_YR2_PLAN', 'CITY_YR3_PLAN',\n",
      "       'CITY_YR4_PLAN', 'CITY_YR5_PLAN', 'CITY_RTC', 'CITY_PLAN_TOTAL',\n",
      "       'NONCITY_PRIOR_ACTUAL', 'NONCITY_YR1_PLAN', 'NONCITY_YR2_PLAN',\n",
      "       'NONCITY_YR3_PLAN', 'NONCITY_YR4_PLAN', 'NONCITY_YR5_PLAN',\n",
      "       'NONCITY_RTC', 'NONCITY_PLAN_TOTAL'],\n",
      "      dtype='object')\n"
     ]
    }
   ],
   "source": [
    "print(data.columns)"
   ]
  },
  {
   "cell_type": "code",
   "execution_count": 4,
   "metadata": {},
   "outputs": [
    {
     "data": {
      "text/html": [
       "<div>\n",
       "<style scoped>\n",
       "    .dataframe tbody tr th:only-of-type {\n",
       "        vertical-align: middle;\n",
       "    }\n",
       "\n",
       "    .dataframe tbody tr th {\n",
       "        vertical-align: top;\n",
       "    }\n",
       "\n",
       "    .dataframe thead th {\n",
       "        text-align: right;\n",
       "    }\n",
       "</style>\n",
       "<table border=\"1\" class=\"dataframe\">\n",
       "  <thead>\n",
       "    <tr style=\"text-align: right;\">\n",
       "      <th></th>\n",
       "      <th>PUB_DATE</th>\n",
       "      <th>BORO</th>\n",
       "      <th>MANAGING_AGCY_CD</th>\n",
       "      <th>MANAGING_AGCY</th>\n",
       "      <th>PROJECT_ID</th>\n",
       "      <th>PROJECT_DESCR</th>\n",
       "      <th>TYP_CATEGORY_NAME</th>\n",
       "      <th>COMMUNITY_BOARD</th>\n",
       "      <th>BUDGET_LINE</th>\n",
       "      <th>DELAY_DESC</th>\n",
       "      <th>...</th>\n",
       "      <th>CITY_RTC</th>\n",
       "      <th>CITY_PLAN_TOTAL</th>\n",
       "      <th>NONCITY_PRIOR_ACTUAL</th>\n",
       "      <th>NONCITY_YR1_PLAN</th>\n",
       "      <th>NONCITY_YR2_PLAN</th>\n",
       "      <th>NONCITY_YR3_PLAN</th>\n",
       "      <th>NONCITY_YR4_PLAN</th>\n",
       "      <th>NONCITY_YR5_PLAN</th>\n",
       "      <th>NONCITY_RTC</th>\n",
       "      <th>NONCITY_PLAN_TOTAL</th>\n",
       "    </tr>\n",
       "  </thead>\n",
       "  <tbody>\n",
       "    <tr>\n",
       "      <th>0</th>\n",
       "      <td>20190425</td>\n",
       "      <td>CITYWIDE</td>\n",
       "      <td>35</td>\n",
       "      <td>NEW YORK RESEARCH LIBRARY</td>\n",
       "      <td>L103RENO</td>\n",
       "      <td>RESEARCH LIBRARIES - Renovations</td>\n",
       "      <td>ESSENTIAL RECONSTRUCTION OF FACILITIES</td>\n",
       "      <td>NaN</td>\n",
       "      <td>L-0101</td>\n",
       "      <td>PROJECT DELAYED DUE TO BUDGETARY CONSTRAINTS</td>\n",
       "      <td>...</td>\n",
       "      <td>1908</td>\n",
       "      <td>2508.0</td>\n",
       "      <td>0.0</td>\n",
       "      <td>0</td>\n",
       "      <td>0</td>\n",
       "      <td>0</td>\n",
       "      <td>0</td>\n",
       "      <td>0</td>\n",
       "      <td>0</td>\n",
       "      <td>0.0</td>\n",
       "    </tr>\n",
       "    <tr>\n",
       "      <th>1</th>\n",
       "      <td>20190425</td>\n",
       "      <td>CITYWIDE</td>\n",
       "      <td>37</td>\n",
       "      <td>NEW YORK PUBLIC LIBRARY</td>\n",
       "      <td>LN18SYSWI</td>\n",
       "      <td>SYSTEMWIDE LUMP-SUM ALLOCATION</td>\n",
       "      <td>ESSENTIAL RECONSTRUCTION OF FACILITIES</td>\n",
       "      <td>0</td>\n",
       "      <td>LN-0008  LN-0101M</td>\n",
       "      <td>NaN</td>\n",
       "      <td>...</td>\n",
       "      <td>14657</td>\n",
       "      <td>25239.0</td>\n",
       "      <td>0.0</td>\n",
       "      <td>0</td>\n",
       "      <td>0</td>\n",
       "      <td>0</td>\n",
       "      <td>0</td>\n",
       "      <td>0</td>\n",
       "      <td>0</td>\n",
       "      <td>0.0</td>\n",
       "    </tr>\n",
       "    <tr>\n",
       "      <th>2</th>\n",
       "      <td>20190425</td>\n",
       "      <td>CITYWIDE</td>\n",
       "      <td>37</td>\n",
       "      <td>NEW YORK PUBLIC LIBRARY</td>\n",
       "      <td>LN19CAREN</td>\n",
       "      <td>Carnegie Renovation Overruns</td>\n",
       "      <td>ESSENTIAL RECONSTRUCTION OF FACILITIES</td>\n",
       "      <td>NaN</td>\n",
       "      <td>LN-0008</td>\n",
       "      <td>NaN</td>\n",
       "      <td>...</td>\n",
       "      <td>0</td>\n",
       "      <td>3745.0</td>\n",
       "      <td>0.0</td>\n",
       "      <td>0</td>\n",
       "      <td>0</td>\n",
       "      <td>0</td>\n",
       "      <td>0</td>\n",
       "      <td>0</td>\n",
       "      <td>0</td>\n",
       "      <td>0.0</td>\n",
       "    </tr>\n",
       "    <tr>\n",
       "      <th>3</th>\n",
       "      <td>20190425</td>\n",
       "      <td>CITYWIDE</td>\n",
       "      <td>37</td>\n",
       "      <td>NEW YORK PUBLIC LIBRARY</td>\n",
       "      <td>LNCOUNCIL</td>\n",
       "      <td>NYC Council funding by District</td>\n",
       "      <td>ESSENTIAL RECONSTRUCTION OF FACILITIES</td>\n",
       "      <td>NaN</td>\n",
       "      <td>LN-D008  LN-D002  LN-D003</td>\n",
       "      <td>NaN</td>\n",
       "      <td>...</td>\n",
       "      <td>0</td>\n",
       "      <td>6488.0</td>\n",
       "      <td>0.0</td>\n",
       "      <td>0</td>\n",
       "      <td>0</td>\n",
       "      <td>0</td>\n",
       "      <td>0</td>\n",
       "      <td>0</td>\n",
       "      <td>0</td>\n",
       "      <td>0.0</td>\n",
       "    </tr>\n",
       "    <tr>\n",
       "      <th>4</th>\n",
       "      <td>20190425</td>\n",
       "      <td>CITYWIDE</td>\n",
       "      <td>37</td>\n",
       "      <td>NEW YORK PUBLIC LIBRARY</td>\n",
       "      <td>LNSYSBFFE</td>\n",
       "      <td>Systemwide FF&amp;E Needs</td>\n",
       "      <td>ESSENTIAL RECONSTRUCTION OF FACILITIES</td>\n",
       "      <td>NaN</td>\n",
       "      <td>LN-0008</td>\n",
       "      <td>NaN</td>\n",
       "      <td>...</td>\n",
       "      <td>572</td>\n",
       "      <td>730.0</td>\n",
       "      <td>0.0</td>\n",
       "      <td>0</td>\n",
       "      <td>0</td>\n",
       "      <td>0</td>\n",
       "      <td>0</td>\n",
       "      <td>0</td>\n",
       "      <td>0</td>\n",
       "      <td>0.0</td>\n",
       "    </tr>\n",
       "  </tbody>\n",
       "</table>\n",
       "<p>5 rows × 30 columns</p>\n",
       "</div>"
      ],
      "text/plain": [
       "   PUB_DATE      BORO  MANAGING_AGCY_CD              MANAGING_AGCY PROJECT_ID  \\\n",
       "0  20190425  CITYWIDE                35  NEW YORK RESEARCH LIBRARY   L103RENO   \n",
       "1  20190425  CITYWIDE                37    NEW YORK PUBLIC LIBRARY  LN18SYSWI   \n",
       "2  20190425  CITYWIDE                37    NEW YORK PUBLIC LIBRARY  LN19CAREN   \n",
       "3  20190425  CITYWIDE                37    NEW YORK PUBLIC LIBRARY  LNCOUNCIL   \n",
       "4  20190425  CITYWIDE                37    NEW YORK PUBLIC LIBRARY  LNSYSBFFE   \n",
       "\n",
       "                      PROJECT_DESCR                       TYP_CATEGORY_NAME  \\\n",
       "0  RESEARCH LIBRARIES - Renovations  ESSENTIAL RECONSTRUCTION OF FACILITIES   \n",
       "1    SYSTEMWIDE LUMP-SUM ALLOCATION  ESSENTIAL RECONSTRUCTION OF FACILITIES   \n",
       "2      Carnegie Renovation Overruns  ESSENTIAL RECONSTRUCTION OF FACILITIES   \n",
       "3   NYC Council funding by District  ESSENTIAL RECONSTRUCTION OF FACILITIES   \n",
       "4             Systemwide FF&E Needs  ESSENTIAL RECONSTRUCTION OF FACILITIES   \n",
       "\n",
       "  COMMUNITY_BOARD                BUDGET_LINE  \\\n",
       "0             NaN                     L-0101   \n",
       "1               0          LN-0008  LN-0101M   \n",
       "2             NaN                    LN-0008   \n",
       "3             NaN  LN-D008  LN-D002  LN-D003   \n",
       "4             NaN                    LN-0008   \n",
       "\n",
       "                                     DELAY_DESC  ... CITY_RTC CITY_PLAN_TOTAL  \\\n",
       "0  PROJECT DELAYED DUE TO BUDGETARY CONSTRAINTS  ...     1908          2508.0   \n",
       "1                                           NaN  ...    14657         25239.0   \n",
       "2                                           NaN  ...        0          3745.0   \n",
       "3                                           NaN  ...        0          6488.0   \n",
       "4                                           NaN  ...      572           730.0   \n",
       "\n",
       "   NONCITY_PRIOR_ACTUAL  NONCITY_YR1_PLAN  NONCITY_YR2_PLAN  NONCITY_YR3_PLAN  \\\n",
       "0                   0.0                 0                 0                 0   \n",
       "1                   0.0                 0                 0                 0   \n",
       "2                   0.0                 0                 0                 0   \n",
       "3                   0.0                 0                 0                 0   \n",
       "4                   0.0                 0                 0                 0   \n",
       "\n",
       "   NONCITY_YR4_PLAN  NONCITY_YR5_PLAN  NONCITY_RTC  NONCITY_PLAN_TOTAL  \n",
       "0                 0                 0            0                 0.0  \n",
       "1                 0                 0            0                 0.0  \n",
       "2                 0                 0            0                 0.0  \n",
       "3                 0                 0            0                 0.0  \n",
       "4                 0                 0            0                 0.0  \n",
       "\n",
       "[5 rows x 30 columns]"
      ]
     },
     "execution_count": 4,
     "metadata": {},
     "output_type": "execute_result"
    }
   ],
   "source": [
    "data.head()"
   ]
  },
  {
   "cell_type": "code",
   "execution_count": 5,
   "metadata": {},
   "outputs": [
    {
     "data": {
      "text/html": [
       "<div>\n",
       "<style scoped>\n",
       "    .dataframe tbody tr th:only-of-type {\n",
       "        vertical-align: middle;\n",
       "    }\n",
       "\n",
       "    .dataframe tbody tr th {\n",
       "        vertical-align: top;\n",
       "    }\n",
       "\n",
       "    .dataframe thead th {\n",
       "        text-align: right;\n",
       "    }\n",
       "</style>\n",
       "<table border=\"1\" class=\"dataframe\">\n",
       "  <thead>\n",
       "    <tr style=\"text-align: right;\">\n",
       "      <th></th>\n",
       "      <th>FY_YR1_PLAN</th>\n",
       "      <th>BORO</th>\n",
       "      <th>MANAGING_AGCY</th>\n",
       "      <th>TYP_CATEGORY_NAME</th>\n",
       "      <th>CITY_PLAN_TOTAL</th>\n",
       "      <th>NONCITY_PLAN_TOTAL</th>\n",
       "      <th>PROJECT_ID</th>\n",
       "    </tr>\n",
       "  </thead>\n",
       "  <tbody>\n",
       "    <tr>\n",
       "      <th>0</th>\n",
       "      <td>2019</td>\n",
       "      <td>CITYWIDE</td>\n",
       "      <td>NEW YORK RESEARCH LIBRARY</td>\n",
       "      <td>ESSENTIAL RECONSTRUCTION OF FACILITIES</td>\n",
       "      <td>2508.0</td>\n",
       "      <td>0.0</td>\n",
       "      <td>L103RENO</td>\n",
       "    </tr>\n",
       "    <tr>\n",
       "      <th>1</th>\n",
       "      <td>2019</td>\n",
       "      <td>CITYWIDE</td>\n",
       "      <td>NEW YORK PUBLIC LIBRARY</td>\n",
       "      <td>ESSENTIAL RECONSTRUCTION OF FACILITIES</td>\n",
       "      <td>25239.0</td>\n",
       "      <td>0.0</td>\n",
       "      <td>LN18SYSWI</td>\n",
       "    </tr>\n",
       "    <tr>\n",
       "      <th>2</th>\n",
       "      <td>2019</td>\n",
       "      <td>CITYWIDE</td>\n",
       "      <td>NEW YORK PUBLIC LIBRARY</td>\n",
       "      <td>ESSENTIAL RECONSTRUCTION OF FACILITIES</td>\n",
       "      <td>3745.0</td>\n",
       "      <td>0.0</td>\n",
       "      <td>LN19CAREN</td>\n",
       "    </tr>\n",
       "    <tr>\n",
       "      <th>3</th>\n",
       "      <td>2019</td>\n",
       "      <td>CITYWIDE</td>\n",
       "      <td>NEW YORK PUBLIC LIBRARY</td>\n",
       "      <td>ESSENTIAL RECONSTRUCTION OF FACILITIES</td>\n",
       "      <td>6488.0</td>\n",
       "      <td>0.0</td>\n",
       "      <td>LNCOUNCIL</td>\n",
       "    </tr>\n",
       "    <tr>\n",
       "      <th>4</th>\n",
       "      <td>2019</td>\n",
       "      <td>CITYWIDE</td>\n",
       "      <td>NEW YORK PUBLIC LIBRARY</td>\n",
       "      <td>ESSENTIAL RECONSTRUCTION OF FACILITIES</td>\n",
       "      <td>730.0</td>\n",
       "      <td>0.0</td>\n",
       "      <td>LNSYSBFFE</td>\n",
       "    </tr>\n",
       "  </tbody>\n",
       "</table>\n",
       "</div>"
      ],
      "text/plain": [
       "   FY_YR1_PLAN      BORO              MANAGING_AGCY  \\\n",
       "0         2019  CITYWIDE  NEW YORK RESEARCH LIBRARY   \n",
       "1         2019  CITYWIDE    NEW YORK PUBLIC LIBRARY   \n",
       "2         2019  CITYWIDE    NEW YORK PUBLIC LIBRARY   \n",
       "3         2019  CITYWIDE    NEW YORK PUBLIC LIBRARY   \n",
       "4         2019  CITYWIDE    NEW YORK PUBLIC LIBRARY   \n",
       "\n",
       "                        TYP_CATEGORY_NAME  CITY_PLAN_TOTAL  \\\n",
       "0  ESSENTIAL RECONSTRUCTION OF FACILITIES           2508.0   \n",
       "1  ESSENTIAL RECONSTRUCTION OF FACILITIES          25239.0   \n",
       "2  ESSENTIAL RECONSTRUCTION OF FACILITIES           3745.0   \n",
       "3  ESSENTIAL RECONSTRUCTION OF FACILITIES           6488.0   \n",
       "4  ESSENTIAL RECONSTRUCTION OF FACILITIES            730.0   \n",
       "\n",
       "   NONCITY_PLAN_TOTAL PROJECT_ID  \n",
       "0                 0.0   L103RENO  \n",
       "1                 0.0  LN18SYSWI  \n",
       "2                 0.0  LN19CAREN  \n",
       "3                 0.0  LNCOUNCIL  \n",
       "4                 0.0  LNSYSBFFE  "
      ]
     },
     "execution_count": 5,
     "metadata": {},
     "output_type": "execute_result"
    }
   ],
   "source": [
    "loc_data = pd.DataFrame(data, columns = ['FY_YR1_PLAN','BORO', 'MANAGING_AGCY','TYP_CATEGORY_NAME', 'CITY_PLAN_TOTAL', 'NONCITY_PLAN_TOTAL', 'PROJECT_ID'])\n",
    "loc_data.head()"
   ]
  },
  {
   "cell_type": "code",
   "execution_count": 6,
   "metadata": {},
   "outputs": [
    {
     "data": {
      "text/plain": [
       "pandas.core.series.Series"
      ]
     },
     "execution_count": 6,
     "metadata": {},
     "output_type": "execute_result"
    }
   ],
   "source": [
    "type(loc_data['CITY_PLAN_TOTAL'])"
   ]
  },
  {
   "cell_type": "code",
   "execution_count": 7,
   "metadata": {},
   "outputs": [
    {
     "name": "stdout",
     "output_type": "stream",
     "text": [
      "2020    15569\n",
      "2019     5219\n",
      "2021     5200\n",
      "Name: FY_YR1_PLAN, dtype: int64\n"
     ]
    }
   ],
   "source": [
    "loc_data_year = loc_data['FY_YR1_PLAN'].value_counts(sort=True) ## Sorted True to see which year had the highest dollar amount of projects. Interestingly, There are 3 times the amount of projects for 2020 compared to 2019.\n",
    "print(loc_data_year)\n",
    "\n",
    "## instead of loc_data_year.head() it should be print(loc_data_year)"
   ]
  },
  {
   "cell_type": "code",
   "execution_count": 8,
   "metadata": {},
   "outputs": [
    {
     "name": "stdout",
     "output_type": "stream",
     "text": [
      "MANHATTAN    6163\n",
      "BROOKLYN     5599\n",
      "QUEENS       5196\n",
      "BRONX        3739\n",
      "CITYWIDE     3312\n",
      "RICHMOND     1979\n",
      "Name: BORO, dtype: int64\n"
     ]
    }
   ],
   "source": [
    "loc_data_boro = loc_data['BORO'].value_counts(sort=True) ## Sorted True to see which Borough had the highest dollar amount of projects.\n",
    "print(loc_data_boro)"
   ]
  },
  {
   "cell_type": "code",
   "execution_count": 9,
   "metadata": {},
   "outputs": [
    {
     "name": "stdout",
     "output_type": "stream",
     "text": [
      "DEPT OF PARKS AND RECREATION               6686\n",
      "DEPT OF DESIGN & CONSTRUCTION              4955\n",
      "DEPARTMENT OF TRANSPORTATION               2182\n",
      "DEPT OF  SMALL BUSINESS SERVICES           2060\n",
      "DEPT ENVIRONMENTAL PROTECTION              1827\n",
      "HOUSING PRESERVATION AND DEVEL             1455\n",
      "DEPT OF CITYWIDE ADMIN SERVS               1421\n",
      "CITY UNIVERSITY                            1262\n",
      "HEALTH AND HOSPITALS CORP                   804\n",
      "FIRE DEPARTMENT                             493\n",
      "POLICE DEPARTMENT                           430\n",
      "DEPARTMENT OF CORRECTION                    421\n",
      "DEPT OF HOMELESS SERVICES                   416\n",
      "DEPARTMENT OF SANITATION                    399\n",
      "DEPARTMENT OF CULTURAL AFFAIRS              346\n",
      "QUEENS BOROUGH PUBLIC LIBRARY               220\n",
      "NEW YORK PUBLIC LIBRARY                     176\n",
      "DEPARTMENT OF HEALTH AND MENTAL HYGIENE     128\n",
      "BROOKLYN PUBLIC LIBRARY                     108\n",
      "HUMAN RESOURCES ADMINISTRATION               72\n",
      "ADMIN FOR CHILDREN'S SERVICES                54\n",
      "DEPARTMENT FOR THE AGING                     34\n",
      "DEPARTMENT OF EDUCATION                      24\n",
      "NEW YORK RESEARCH LIBRARY                     7\n",
      "TRANSIT AUTHORITY   CAPITAL                   6\n",
      "DEPT OF INFO TECH & TELECOMM                  2\n",
      "Name: MANAGING_AGCY, dtype: int64\n"
     ]
    }
   ],
   "source": [
    "loc_data_agcy = loc_data['MANAGING_AGCY'].value_counts(sort=True) ## Sorted True to see which Department had the highest dollar amount of projects.\n",
    "print(loc_data_agcy)"
   ]
  },
  {
   "cell_type": "code",
   "execution_count": 33,
   "metadata": {},
   "outputs": [
    {
     "name": "stdout",
     "output_type": "stream",
     "text": [
      "FREQUENCY DISTRIBUTION:\n",
      "DEPT OF PARKS AND RECREATION              25.73\n",
      "DEPT OF DESIGN & CONSTRUCTION             19.07\n",
      "DEPARTMENT OF TRANSPORTATION                8.4\n",
      "DEPT OF  SMALL BUSINESS SERVICES           7.93\n",
      "DEPT ENVIRONMENTAL PROTECTION              7.03\n",
      "HOUSING PRESERVATION AND DEVEL              5.6\n",
      "DEPT OF CITYWIDE ADMIN SERVS               5.47\n",
      "CITY UNIVERSITY                            4.86\n",
      "HEALTH AND HOSPITALS CORP                  3.09\n",
      "FIRE DEPARTMENT                             1.9\n",
      "POLICE DEPARTMENT                          1.65\n",
      "DEPARTMENT OF CORRECTION                   1.62\n",
      "DEPT OF HOMELESS SERVICES                   1.6\n",
      "DEPARTMENT OF SANITATION                   1.54\n",
      "DEPARTMENT OF CULTURAL AFFAIRS             1.33\n",
      "QUEENS BOROUGH PUBLIC LIBRARY              0.85\n",
      "NEW YORK PUBLIC LIBRARY                    0.68\n",
      "DEPARTMENT OF HEALTH AND MENTAL HYGIENE    0.49\n",
      "BROOKLYN PUBLIC LIBRARY                    0.42\n",
      "HUMAN RESOURCES ADMINISTRATION             0.28\n",
      "ADMIN FOR CHILDREN'S SERVICES              0.21\n",
      "DEPARTMENT FOR THE AGING                   0.13\n",
      "DEPARTMENT OF EDUCATION                    0.09\n",
      "NEW YORK RESEARCH LIBRARY                  0.03\n",
      "TRANSIT AUTHORITY   CAPITAL                0.02\n",
      "DEPT OF INFO TECH & TELECOMM               0.01\n",
      "Name: MANAGING_AGCY, dtype: float64\n"
     ]
    }
   ],
   "source": [
    "loc_data_agcy = loc_data['MANAGING_AGCY'].value_counts(sort=True, normalize=True) ## A quarter of total spending came from DEPT of Parks and Recreation\n",
    "print('FREQUENCY DISTRIBUTION:', round((loc_data_agcy *100),2), sep='\\n')"
   ]
  },
  {
   "cell_type": "code",
   "execution_count": 11,
   "metadata": {},
   "outputs": [
    {
     "name": "stdout",
     "output_type": "stream",
     "text": [
      "NEIGHBORHOOD PARKS AND PLAYGROUNDS                  3828\n",
      "LARGE, MAJOR AND REGIONAL PARK RECONSTRUCTION       1497\n",
      "ESSENTIAL RECONSTRUCTION OF FACILITIES              1455\n",
      "PRIMARY STREET RECONSTRUCTION                       1346\n",
      "LOW TO MODERATE INCOME PUBLIC HOUSING UPGRADE       1333\n",
      "                                                    ... \n",
      "MISCELLANEOUS PROJECTS FOR NEW YORK CITY TRANSIT       1\n",
      "EMERGENCY, INSPECTION AND MISCELLANEOUS                1\n",
      "IFA TRACKWORK PROJECT FOR NEW YORK CITY TRANSIT        1\n",
      "MISCELLANEOUS PROGRAMS                                 1\n",
      "RECONSTRUCTION OF SECURE DETENTION FACILITIES          1\n",
      "Name: TYP_CATEGORY_NAME, Length: 145, dtype: int64\n"
     ]
    }
   ],
   "source": [
    "project_type = loc_data['TYP_CATEGORY_NAME'].value_counts(sort=True) ## Highest dollar amount by project type is Neighborhood Parks and Playgrounds\n",
    "print(project_type)"
   ]
  },
  {
   "cell_type": "code",
   "execution_count": 12,
   "metadata": {},
   "outputs": [
    {
     "name": "stdout",
     "output_type": "stream",
     "text": [
      "SANDCONDT    10\n",
      "P-213CNTR     9\n",
      "SAND2605      9\n",
      "HBBA24181     7\n",
      "GCJA03-3A     6\n",
      "             ..\n",
      "P-200PPNM     1\n",
      "HAM21SPMO     1\n",
      "LTCP2015      1\n",
      "HWK300-01     1\n",
      "JFK-INTER     1\n",
      "Name: PROJECT_ID, Length: 6494, dtype: int64\n"
     ]
    }
   ],
   "source": [
    "loc_data_projectid= loc_data['PROJECT_ID'].value_counts(sort=True) ## SANDCONDT - hurrican sandy electrical conduit repair/replacement\n",
    "print(loc_data_projectid)"
   ]
  },
  {
   "cell_type": "code",
   "execution_count": 34,
   "metadata": {},
   "outputs": [
    {
     "data": {
      "text/plain": [
       "Text(0.5, 1.0, 'Number of Projects')"
      ]
     },
     "execution_count": 34,
     "metadata": {},
     "output_type": "execute_result"
    },
    {
     "data": {
      "image/png": "[encoded data removed]",
      "text/plain": [
       "<Figure size 432x288 with 1 Axes>"
      ]
     },
     "metadata": {
      "needs_background": "light"
     },
     "output_type": "display_data"
    }
   ],
   "source": [
    "seaborn.countplot(x='FY_YR1_PLAN', data=loc_data)\n",
    "plt.xlabel(\"YEARS\")\n",
    "plt.title(\"Number of Projects\")"
   ]
  },
  {
   "cell_type": "code",
   "execution_count": 14,
   "metadata": {},
   "outputs": [
    {
     "data": {
      "text/plain": [
       "Text(0.5, 1.0, 'Number of Projects')"
      ]
     },
     "execution_count": 14,
     "metadata": {},
     "output_type": "execute_result"
    },
    {
     "data": {
      "image/png": "[encoded data removed]",
      "text/plain": [
       "<Figure size 432x288 with 1 Axes>"
      ]
     },
     "metadata": {
      "needs_background": "light"
     },
     "output_type": "display_data"
    }
   ],
   "source": [
    "seaborn.countplot(x='BORO', data=loc_data)\n",
    "plt.xlabel(\"BOROUGHS\")\n",
    "plt.title(\"Number of Projects\")"
   ]
  },
  {
   "cell_type": "code",
   "execution_count": 15,
   "metadata": {},
   "outputs": [
    {
     "data": {
      "text/plain": [
       "Text(0.5, 1.0, 'Number of Projects')"
      ]
     },
     "execution_count": 15,
     "metadata": {},
     "output_type": "execute_result"
    },
    {
     "data": {
      "image/png": "[encoded data removed]",
      "text/plain": [
       "<Figure size 432x288 with 1 Axes>"
      ]
     },
     "metadata": {
      "needs_background": "light"
     },
     "output_type": "display_data"
    }
   ],
   "source": [
    "seaborn.countplot(y='MANAGING_AGCY', data=loc_data) ## switched it to Y since labels are unreadable when placed in X-axis.\n",
    "plt.xlabel(\"Managing Agency\")\n",
    "plt.title(\"Number of Projects\")"
   ]
  },
  {
   "cell_type": "code",
   "execution_count": 16,
   "metadata": {
    "scrolled": true
   },
   "outputs": [
    {
     "data": {
      "text/html": [
       "<div>\n",
       "<style scoped>\n",
       "    .dataframe tbody tr th:only-of-type {\n",
       "        vertical-align: middle;\n",
       "    }\n",
       "\n",
       "    .dataframe tbody tr th {\n",
       "        vertical-align: top;\n",
       "    }\n",
       "\n",
       "    .dataframe thead th {\n",
       "        text-align: right;\n",
       "    }\n",
       "</style>\n",
       "<table border=\"1\" class=\"dataframe\">\n",
       "  <thead>\n",
       "    <tr style=\"text-align: right;\">\n",
       "      <th></th>\n",
       "      <th></th>\n",
       "      <th></th>\n",
       "      <th>CITY_PLAN_TOTAL</th>\n",
       "      <th>NONCITY_PLAN_TOTAL</th>\n",
       "    </tr>\n",
       "    <tr>\n",
       "      <th>FY_YR1_PLAN</th>\n",
       "      <th>BORO</th>\n",
       "      <th>MANAGING_AGCY</th>\n",
       "      <th></th>\n",
       "      <th></th>\n",
       "    </tr>\n",
       "  </thead>\n",
       "  <tbody>\n",
       "    <tr>\n",
       "      <th rowspan=\"5\" valign=\"top\">2019</th>\n",
       "      <th rowspan=\"5\" valign=\"top\">BRONX</th>\n",
       "      <th>ADMIN FOR CHILDREN'S SERVICES</th>\n",
       "      <td>180088</td>\n",
       "      <td>0</td>\n",
       "    </tr>\n",
       "    <tr>\n",
       "      <th>CITY UNIVERSITY</th>\n",
       "      <td>78121</td>\n",
       "      <td>92</td>\n",
       "    </tr>\n",
       "    <tr>\n",
       "      <th>DEPARTMENT FOR THE AGING</th>\n",
       "      <td>600</td>\n",
       "      <td>0</td>\n",
       "    </tr>\n",
       "    <tr>\n",
       "      <th>DEPARTMENT OF CORRECTION</th>\n",
       "      <td>639394</td>\n",
       "      <td>80074</td>\n",
       "    </tr>\n",
       "    <tr>\n",
       "      <th>DEPARTMENT OF CULTURAL AFFAIRS</th>\n",
       "      <td>24025</td>\n",
       "      <td>0</td>\n",
       "    </tr>\n",
       "    <tr>\n",
       "      <th>...</th>\n",
       "      <th>...</th>\n",
       "      <th>...</th>\n",
       "      <td>...</td>\n",
       "      <td>...</td>\n",
       "    </tr>\n",
       "    <tr>\n",
       "      <th rowspan=\"5\" valign=\"top\">2021</th>\n",
       "      <th rowspan=\"5\" valign=\"top\">RICHMOND</th>\n",
       "      <th>FIRE DEPARTMENT</th>\n",
       "      <td>16697</td>\n",
       "      <td>0</td>\n",
       "    </tr>\n",
       "    <tr>\n",
       "      <th>HEALTH AND HOSPITALS CORP</th>\n",
       "      <td>7914</td>\n",
       "      <td>0</td>\n",
       "    </tr>\n",
       "    <tr>\n",
       "      <th>HOUSING PRESERVATION AND DEVEL</th>\n",
       "      <td>9141</td>\n",
       "      <td>0</td>\n",
       "    </tr>\n",
       "    <tr>\n",
       "      <th>NEW YORK PUBLIC LIBRARY</th>\n",
       "      <td>7601</td>\n",
       "      <td>0</td>\n",
       "    </tr>\n",
       "    <tr>\n",
       "      <th>POLICE DEPARTMENT</th>\n",
       "      <td>2499</td>\n",
       "      <td>0</td>\n",
       "    </tr>\n",
       "  </tbody>\n",
       "</table>\n",
       "<p>350 rows × 2 columns</p>\n",
       "</div>"
      ],
      "text/plain": [
       "                                                     CITY_PLAN_TOTAL  \\\n",
       "FY_YR1_PLAN BORO     MANAGING_AGCY                                     \n",
       "2019        BRONX    ADMIN FOR CHILDREN'S SERVICES            180088   \n",
       "                     CITY UNIVERSITY                           78121   \n",
       "                     DEPARTMENT FOR THE AGING                    600   \n",
       "                     DEPARTMENT OF CORRECTION                 639394   \n",
       "                     DEPARTMENT OF CULTURAL AFFAIRS            24025   \n",
       "...                                                              ...   \n",
       "2021        RICHMOND FIRE DEPARTMENT                           16697   \n",
       "                     HEALTH AND HOSPITALS CORP                  7914   \n",
       "                     HOUSING PRESERVATION AND DEVEL             9141   \n",
       "                     NEW YORK PUBLIC LIBRARY                    7601   \n",
       "                     POLICE DEPARTMENT                          2499   \n",
       "\n",
       "                                                     NONCITY_PLAN_TOTAL  \n",
       "FY_YR1_PLAN BORO     MANAGING_AGCY                                       \n",
       "2019        BRONX    ADMIN FOR CHILDREN'S SERVICES                    0  \n",
       "                     CITY UNIVERSITY                                 92  \n",
       "                     DEPARTMENT FOR THE AGING                         0  \n",
       "                     DEPARTMENT OF CORRECTION                     80074  \n",
       "                     DEPARTMENT OF CULTURAL AFFAIRS                   0  \n",
       "...                                                                 ...  \n",
       "2021        RICHMOND FIRE DEPARTMENT                                  0  \n",
       "                     HEALTH AND HOSPITALS CORP                        0  \n",
       "                     HOUSING PRESERVATION AND DEVEL                   0  \n",
       "                     NEW YORK PUBLIC LIBRARY                          0  \n",
       "                     POLICE DEPARTMENT                                0  \n",
       "\n",
       "[350 rows x 2 columns]"
      ]
     },
     "execution_count": 16,
     "metadata": {},
     "output_type": "execute_result"
    }
   ],
   "source": [
    "loc_data[['CITY_PLAN_TOTAL','NONCITY_PLAN_TOTAL']] = loc_data[['CITY_PLAN_TOTAL','NONCITY_PLAN_TOTAL']].astype(int) ## needed to convert columns to integers to avoid concatenating strings when using sum()\n",
    "loc_data.groupby(['FY_YR1_PLAN','BORO','MANAGING_AGCY',]).sum(numeric_only=True) ## I stopped separation up to agency, but adding 'TYP_CATEGORY_NAME' will further show the break-down per category of project."
   ]
  },
  {
   "cell_type": "code",
   "execution_count": 17,
   "metadata": {},
   "outputs": [
    {
     "data": {
      "text/html": [
       "<div>\n",
       "<style scoped>\n",
       "    .dataframe tbody tr th:only-of-type {\n",
       "        vertical-align: middle;\n",
       "    }\n",
       "\n",
       "    .dataframe tbody tr th {\n",
       "        vertical-align: top;\n",
       "    }\n",
       "\n",
       "    .dataframe thead th {\n",
       "        text-align: right;\n",
       "    }\n",
       "</style>\n",
       "<table border=\"1\" class=\"dataframe\">\n",
       "  <thead>\n",
       "    <tr style=\"text-align: right;\">\n",
       "      <th></th>\n",
       "      <th>FY_YR1_PLAN</th>\n",
       "      <th>BORO</th>\n",
       "      <th>MANAGING_AGCY</th>\n",
       "      <th>PROJECT_ID</th>\n",
       "      <th>CITY_PRIOR_ACTUAL</th>\n",
       "      <th>CITY_YR1_PLAN</th>\n",
       "      <th>CITY_YR2_PLAN</th>\n",
       "      <th>CITY_YR3_PLAN</th>\n",
       "      <th>CITY_YR4_PLAN</th>\n",
       "      <th>CITY_YR5_PLAN</th>\n",
       "    </tr>\n",
       "  </thead>\n",
       "  <tbody>\n",
       "    <tr>\n",
       "      <th>0</th>\n",
       "      <td>2019</td>\n",
       "      <td>CITYWIDE</td>\n",
       "      <td>NEW YORK RESEARCH LIBRARY</td>\n",
       "      <td>L103RENO</td>\n",
       "      <td>0.0</td>\n",
       "      <td>0</td>\n",
       "      <td>0</td>\n",
       "      <td>45</td>\n",
       "      <td>221</td>\n",
       "      <td>334</td>\n",
       "    </tr>\n",
       "    <tr>\n",
       "      <th>1</th>\n",
       "      <td>2019</td>\n",
       "      <td>CITYWIDE</td>\n",
       "      <td>NEW YORK PUBLIC LIBRARY</td>\n",
       "      <td>LN18SYSWI</td>\n",
       "      <td>0.0</td>\n",
       "      <td>0</td>\n",
       "      <td>6710</td>\n",
       "      <td>0</td>\n",
       "      <td>758</td>\n",
       "      <td>3114</td>\n",
       "    </tr>\n",
       "    <tr>\n",
       "      <th>2</th>\n",
       "      <td>2019</td>\n",
       "      <td>CITYWIDE</td>\n",
       "      <td>NEW YORK PUBLIC LIBRARY</td>\n",
       "      <td>LN19CAREN</td>\n",
       "      <td>0.0</td>\n",
       "      <td>0</td>\n",
       "      <td>0</td>\n",
       "      <td>0</td>\n",
       "      <td>3745</td>\n",
       "      <td>0</td>\n",
       "    </tr>\n",
       "    <tr>\n",
       "      <th>3</th>\n",
       "      <td>2019</td>\n",
       "      <td>CITYWIDE</td>\n",
       "      <td>NEW YORK PUBLIC LIBRARY</td>\n",
       "      <td>LNCOUNCIL</td>\n",
       "      <td>0.0</td>\n",
       "      <td>0</td>\n",
       "      <td>0</td>\n",
       "      <td>0</td>\n",
       "      <td>0</td>\n",
       "      <td>6488</td>\n",
       "    </tr>\n",
       "    <tr>\n",
       "      <th>4</th>\n",
       "      <td>2019</td>\n",
       "      <td>CITYWIDE</td>\n",
       "      <td>NEW YORK PUBLIC LIBRARY</td>\n",
       "      <td>LNSYSBFFE</td>\n",
       "      <td>0.0</td>\n",
       "      <td>0</td>\n",
       "      <td>0</td>\n",
       "      <td>0</td>\n",
       "      <td>0</td>\n",
       "      <td>158</td>\n",
       "    </tr>\n",
       "  </tbody>\n",
       "</table>\n",
       "</div>"
      ],
      "text/plain": [
       "   FY_YR1_PLAN      BORO              MANAGING_AGCY PROJECT_ID  \\\n",
       "0         2019  CITYWIDE  NEW YORK RESEARCH LIBRARY   L103RENO   \n",
       "1         2019  CITYWIDE    NEW YORK PUBLIC LIBRARY  LN18SYSWI   \n",
       "2         2019  CITYWIDE    NEW YORK PUBLIC LIBRARY  LN19CAREN   \n",
       "3         2019  CITYWIDE    NEW YORK PUBLIC LIBRARY  LNCOUNCIL   \n",
       "4         2019  CITYWIDE    NEW YORK PUBLIC LIBRARY  LNSYSBFFE   \n",
       "\n",
       "   CITY_PRIOR_ACTUAL  CITY_YR1_PLAN  CITY_YR2_PLAN  CITY_YR3_PLAN  \\\n",
       "0                0.0              0              0             45   \n",
       "1                0.0              0           6710              0   \n",
       "2                0.0              0              0              0   \n",
       "3                0.0              0              0              0   \n",
       "4                0.0              0              0              0   \n",
       "\n",
       "   CITY_YR4_PLAN  CITY_YR5_PLAN  \n",
       "0            221            334  \n",
       "1            758           3114  \n",
       "2           3745              0  \n",
       "3              0           6488  \n",
       "4              0            158  "
      ]
     },
     "execution_count": 17,
     "metadata": {},
     "output_type": "execute_result"
    }
   ],
   "source": [
    "#Evaluating funding over time of projects by comparing different years as percentage of total spending\n",
    "spend_data= pd.DataFrame(data, columns = ['FY_YR1_PLAN','BORO','MANAGING_AGCY','PROJECT_ID','CITY_PRIOR_ACTUAL','CITY_YR1_PLAN','CITY_YR2_PLAN','CITY_YR3_PLAN','CITY_YR4_PLAN','CITY_YR5_PLAN'])\n",
    "spend_data.head()"
   ]
  },
  {
   "cell_type": "code",
   "execution_count": 18,
   "metadata": {},
   "outputs": [
    {
     "data": {
      "text/html": [
       "<div>\n",
       "<style scoped>\n",
       "    .dataframe tbody tr th:only-of-type {\n",
       "        vertical-align: middle;\n",
       "    }\n",
       "\n",
       "    .dataframe tbody tr th {\n",
       "        vertical-align: top;\n",
       "    }\n",
       "\n",
       "    .dataframe thead th {\n",
       "        text-align: right;\n",
       "    }\n",
       "</style>\n",
       "<table border=\"1\" class=\"dataframe\">\n",
       "  <thead>\n",
       "    <tr style=\"text-align: right;\">\n",
       "      <th></th>\n",
       "      <th>FY_YR1_PLAN</th>\n",
       "      <th>BORO</th>\n",
       "      <th>MANAGING_AGCY</th>\n",
       "      <th>PROJECT_ID</th>\n",
       "      <th>CITY_PRIOR_ACTUAL</th>\n",
       "      <th>CITY_YR1_PLAN</th>\n",
       "      <th>CITY_YR2_PLAN</th>\n",
       "      <th>CITY_YR3_PLAN</th>\n",
       "      <th>CITY_YR4_PLAN</th>\n",
       "      <th>CITY_YR5_PLAN</th>\n",
       "    </tr>\n",
       "  </thead>\n",
       "  <tbody>\n",
       "    <tr>\n",
       "      <th>12</th>\n",
       "      <td>2019</td>\n",
       "      <td>CITYWIDE</td>\n",
       "      <td>DEPARTMENT OF EDUCATION</td>\n",
       "      <td>SCA18</td>\n",
       "      <td>2953770.00</td>\n",
       "      <td>1112</td>\n",
       "      <td>0</td>\n",
       "      <td>0</td>\n",
       "      <td>0</td>\n",
       "      <td>0</td>\n",
       "    </tr>\n",
       "    <tr>\n",
       "      <th>25575</th>\n",
       "      <td>2021</td>\n",
       "      <td>BRONX</td>\n",
       "      <td>DEPT ENVIRONMENTAL PROTECTION</td>\n",
       "      <td>HED-545</td>\n",
       "      <td>2826738.00</td>\n",
       "      <td>5522</td>\n",
       "      <td>0</td>\n",
       "      <td>0</td>\n",
       "      <td>0</td>\n",
       "      <td>0</td>\n",
       "    </tr>\n",
       "    <tr>\n",
       "      <th>15142</th>\n",
       "      <td>2020</td>\n",
       "      <td>BRONX</td>\n",
       "      <td>DEPT ENVIRONMENTAL PROTECTION</td>\n",
       "      <td>HED-545</td>\n",
       "      <td>2821204.00</td>\n",
       "      <td>10785</td>\n",
       "      <td>0</td>\n",
       "      <td>0</td>\n",
       "      <td>0</td>\n",
       "      <td>0</td>\n",
       "    </tr>\n",
       "    <tr>\n",
       "      <th>20381</th>\n",
       "      <td>2020</td>\n",
       "      <td>BRONX</td>\n",
       "      <td>DEPT ENVIRONMENTAL PROTECTION</td>\n",
       "      <td>HED-545</td>\n",
       "      <td>2821204.00</td>\n",
       "      <td>10666</td>\n",
       "      <td>359</td>\n",
       "      <td>0</td>\n",
       "      <td>0</td>\n",
       "      <td>0</td>\n",
       "    </tr>\n",
       "    <tr>\n",
       "      <th>9929</th>\n",
       "      <td>2020</td>\n",
       "      <td>BRONX</td>\n",
       "      <td>DEPT ENVIRONMENTAL PROTECTION</td>\n",
       "      <td>HED-545</td>\n",
       "      <td>2821203.82</td>\n",
       "      <td>5416</td>\n",
       "      <td>0</td>\n",
       "      <td>0</td>\n",
       "      <td>0</td>\n",
       "      <td>0</td>\n",
       "    </tr>\n",
       "  </tbody>\n",
       "</table>\n",
       "</div>"
      ],
      "text/plain": [
       "       FY_YR1_PLAN      BORO                  MANAGING_AGCY PROJECT_ID  \\\n",
       "12            2019  CITYWIDE        DEPARTMENT OF EDUCATION      SCA18   \n",
       "25575         2021     BRONX  DEPT ENVIRONMENTAL PROTECTION    HED-545   \n",
       "15142         2020     BRONX  DEPT ENVIRONMENTAL PROTECTION    HED-545   \n",
       "20381         2020     BRONX  DEPT ENVIRONMENTAL PROTECTION    HED-545   \n",
       "9929          2020     BRONX  DEPT ENVIRONMENTAL PROTECTION    HED-545   \n",
       "\n",
       "       CITY_PRIOR_ACTUAL  CITY_YR1_PLAN  CITY_YR2_PLAN  CITY_YR3_PLAN  \\\n",
       "12            2953770.00           1112              0              0   \n",
       "25575         2826738.00           5522              0              0   \n",
       "15142         2821204.00          10785              0              0   \n",
       "20381         2821204.00          10666            359              0   \n",
       "9929          2821203.82           5416              0              0   \n",
       "\n",
       "       CITY_YR4_PLAN  CITY_YR5_PLAN  \n",
       "12                 0              0  \n",
       "25575              0              0  \n",
       "15142              0              0  \n",
       "20381              0              0  \n",
       "9929               0              0  "
      ]
     },
     "execution_count": 18,
     "metadata": {},
     "output_type": "execute_result"
    }
   ],
   "source": [
    "#Finding 5 largest projects overall by spending amount\n",
    "spend_data.nlargest(5, 'CITY_PRIOR_ACTUAL')"
   ]
  },
  {
   "cell_type": "code",
   "execution_count": 19,
   "metadata": {},
   "outputs": [
    {
     "data": {
      "text/plain": [
       "BORO   MANAGING_AGCY                      \n",
       "BRONX  ADMIN FOR CHILDREN'S SERVICES  4552    0.0\n",
       "                                      4553    0.0\n",
       "                                      4554    0.0\n",
       "                                      9680    0.0\n",
       "                                      9681    0.0\n",
       "Name: CITY_PRIOR_ACTUAL, dtype: float64"
      ]
     },
     "execution_count": 19,
     "metadata": {},
     "output_type": "execute_result"
    }
   ],
   "source": [
    "#Finding 5 largest projects in each group by spending amount\n",
    "largest_proj= spend_data.groupby(['BORO','MANAGING_AGCY'])['CITY_PRIOR_ACTUAL'].nlargest(5)\n",
    "largest_proj.head()"
   ]
  },
  {
   "cell_type": "code",
   "execution_count": 20,
   "metadata": {},
   "outputs": [],
   "source": [
    "#Above data Frame is quite large, so we will print to a .csv file\n",
    "largest_proj.to_csv(r'largest_projs.csv')"
   ]
  },
  {
   "cell_type": "code",
   "execution_count": 21,
   "metadata": {},
   "outputs": [],
   "source": [
    "#Formatting so that float values display accurately\n",
    "pd.options.display.float_format = '{:,}'.format"
   ]
  },
  {
   "cell_type": "code",
   "execution_count": 22,
   "metadata": {},
   "outputs": [],
   "source": [
    "spend_year= spend_data[['CITY_PRIOR_ACTUAL','CITY_YR1_PLAN','CITY_YR2_PLAN','CITY_YR3_PLAN','CITY_YR4_PLAN','CITY_YR5_PLAN']]"
   ]
  },
  {
   "cell_type": "code",
   "execution_count": 23,
   "metadata": {},
   "outputs": [],
   "source": [
    "#Removing negative numbers from year-by-year spending data in order generate an area plot\n",
    "spend_year = spend_year.drop(spend_year[spend_year['CITY_YR1_PLAN'] < 0].index)\n",
    "spend_year = spend_year.drop(spend_year[spend_year['CITY_YR2_PLAN'] < 0].index)\n",
    "spend_year = spend_year.drop(spend_year[spend_year['CITY_YR3_PLAN'] < 0].index)\n",
    "spend_year = spend_year.drop(spend_year[spend_year['CITY_YR4_PLAN'] < 0].index)\n",
    "spend_year = spend_year.drop(spend_year[spend_year['CITY_YR5_PLAN'] < 0].index)"
   ]
  },
  {
   "cell_type": "code",
   "execution_count": 24,
   "metadata": {},
   "outputs": [
    {
     "name": "stdout",
     "output_type": "stream",
     "text": [
      "CITY_PRIOR_ACTUAL   172,945,307.81\n",
      "CITY_YR1_PLAN         46,177,502.0\n",
      "CITY_YR2_PLAN         48,498,194.0\n",
      "CITY_YR3_PLAN         47,796,170.0\n",
      "CITY_YR4_PLAN         52,926,268.0\n",
      "CITY_YR5_PLAN         49,589,167.0\n",
      "dtype: float64\n"
     ]
    }
   ],
   "source": [
    "#Taking sum of spending in all years\n",
    "sum_all_years= spend_year.sum(numeric_only=True)\n",
    "\n",
    "#Formatting so that float values display accurately, with commas\n",
    "pd.options.display.float_format = '{:,}'.format\n",
    "\n",
    "spend_data['sum_all_years']= sum_all_years\n",
    "\n",
    "print(sum_all_years)"
   ]
  },
  {
   "cell_type": "code",
   "execution_count": 25,
   "metadata": {},
   "outputs": [
    {
     "data": {
      "text/plain": [
       "Text(0, 0.5, 'Total Cost, budgeted per year, in millions')"
      ]
     },
     "execution_count": 25,
     "metadata": {},
     "output_type": "execute_result"
    },
    {
     "data": {
      "image/png": "[encoded data removed]",
      "text/plain": [
       "<Figure size 720x720 with 1 Axes>"
      ]
     },
     "metadata": {
      "needs_background": "light"
     },
     "output_type": "display_data"
    }
   ],
   "source": [
    "#Creating area plot to show change in budgeted amount for projects year-by-year\n",
    "ax=sum_all_years.plot.area(stacked=False, figsize= (10,10))\n",
    "ax.set_ylabel(\"Total Cost, budgeted per year, in millions\")\n",
    "\n",
    "#We can see that the amounts funded for five fiscal years actually exceed the Year-to-Date funded amounts as indicated\n",
    "#in City Year Prior"
   ]
  },
  {
   "cell_type": "code",
   "execution_count": null,
   "metadata": {},
   "outputs": [],
   "source": []
  }
 ],
 "metadata": {
  "kernelspec": {
   "display_name": "Python 3",
   "language": "python",
   "name": "python3"
  },
  "language_info": {
   "codemirror_mode": {
    "name": "ipython",
    "version": 3
   },
   "file_extension": ".py",
   "mimetype": "text/x-python",
   "name": "python",
   "nbconvert_exporter": "python",
   "pygments_lexer": "ipython3",
   "version": "3.8.3"
  }
 },
 "nbformat": 4,
 "nbformat_minor": 4
}
